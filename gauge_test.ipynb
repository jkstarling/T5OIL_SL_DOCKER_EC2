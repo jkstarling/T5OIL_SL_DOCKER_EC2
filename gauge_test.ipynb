{
 "cells": [
  {
   "cell_type": "code",
   "execution_count": 4,
   "metadata": {},
   "outputs": [],
   "source": [
    "import plotly.graph_objects as go\n",
    "from helper import *\n",
    "# fig = go.Figure(go.Indicator(\n",
    "#     domain = {'x': [0, 1], 'y': [0, 1]},\n",
    "#     value = 450,\n",
    "#     mode = \"gauge+number+delta\",\n",
    "#     title = {'text': \"Speed\"},\n",
    "#     delta = {'reference': 120},\n",
    "#     gauge = {'axis': {'range': [-500, 500]},\n",
    "#              'steps' : [\n",
    "#                  {'range': [0, 250], 'color': \"lightgray\"},\n",
    "#                  {'range': [250, 400], 'color': \"gray\"}],\n",
    "#              'threshold' : {'line': {'color': \"red\", 'width': 4}, 'thickness': 0.75, 'value': 490}}))\n",
    "\n",
    "# fig.show()"
   ]
  },
  {
   "cell_type": "code",
   "execution_count": 6,
   "metadata": {},
   "outputs": [
    {
     "data": {
      "application/vnd.plotly.v1+json": {
       "config": {
        "plotlyServerURL": "https://plot.ly"
       },
       "data": [
        {
         "delta": {
          "reference": 0.235
         },
         "domain": {
          "column": 0,
          "row": 0
         },
         "gauge": {
          "axis": {
           "visible": true
          }
         },
         "title": {
          "text": "<span style='font-size:0.5em'>CPD Growth % MoM"
         },
         "type": "indicator",
         "value": 0.25
        },
        {
         "delta": {
          "reference": 0.235
         },
         "domain": {
          "column": 1,
          "row": 0
         },
         "gauge": {
          "axis": {
           "visible": true
          }
         },
         "title": {
          "text": "<span style='font-size:0.5em'>ARO Growth % MoM"
         },
         "type": "indicator",
         "value": 0.56
        },
        {
         "delta": {
          "reference": 0.235
         },
         "domain": {
          "column": 2,
          "row": 0
         },
         "gauge": {
          "axis": {
           "visible": true
          }
         },
         "title": {
          "text": "<span style='font-size:0.5em'>LHPC % MoM"
         },
         "type": "indicator",
         "value": -0.23
        },
        {
         "delta": {
          "reference": 0.235
         },
         "domain": {
          "column": 3,
          "row": 0
         },
         "gauge": {
          "axis": {
           "visible": true
          }
         },
         "title": {
          "text": "<span style='font-size:0.5em'>4-Wall EBITDA/Car % MoM"
         },
         "type": "indicator",
         "value": 1.5
        },
        {
         "delta": {
          "reference": 0.235
         },
         "domain": {
          "column": 0,
          "row": 1
         },
         "gauge": {
          "axis": {
           "visible": true
          }
         },
         "title": {
          "text": "<span style='font-size:0.5em'>Labor % MoM"
         },
         "type": "indicator",
         "value": -0.99
        },
        {
         "delta": {
          "reference": 0.235
         },
         "domain": {
          "column": 1,
          "row": 1
         },
         "gauge": {
          "axis": {
           "visible": true
          }
         },
         "title": {
          "text": "<span style='font-size:0.5em'>Controllable Costs % MoM"
         },
         "type": "indicator",
         "value": 0.17
        },
        {
         "delta": {
          "reference": 0.235
         },
         "domain": {
          "column": 2,
          "row": 1
         },
         "gauge": {
          "axis": {
           "visible": true
          }
         },
         "title": {
          "text": "<span style='font-size:0.5em'>Uncontrollable Costs % MoM"
         },
         "type": "indicator",
         "value": 0.17
        },
        {
         "delta": {
          "reference": 120
         },
         "domain": {
          "column": 3,
          "row": 1
         },
         "gauge": {
          "axis": {
           "range": [
            -500,
            500
           ]
          },
          "steps": [
           {
            "color": "lightgray",
            "range": [
             0,
             250
            ]
           },
           {
            "color": "gray",
            "range": [
             250,
             400
            ]
           }
          ],
          "threshold": {
           "line": {
            "color": "red",
            "width": 4
           },
           "thickness": 0.75,
           "value": 490
          }
         },
         "type": "indicator",
         "value": 450
        }
       ],
       "layout": {
        "grid": {
         "columns": 4,
         "pattern": "independent",
         "rows": 2
        },
        "template": {
         "data": {
          "candlestick": [
           {
            "decreasing": {
             "line": {
              "color": "#000033"
             }
            },
            "increasing": {
             "line": {
              "color": "#000032"
             }
            },
            "type": "candlestick"
           }
          ],
          "contour": [
           {
            "colorscale": [
             [
              0,
              "#000011"
             ],
             [
              0.1111111111111111,
              "#000012"
             ],
             [
              0.2222222222222222,
              "#000013"
             ],
             [
              0.3333333333333333,
              "#000014"
             ],
             [
              0.4444444444444444,
              "#000015"
             ],
             [
              0.5555555555555556,
              "#000016"
             ],
             [
              0.6666666666666666,
              "#000017"
             ],
             [
              0.7777777777777778,
              "#000018"
             ],
             [
              0.8888888888888888,
              "#000019"
             ],
             [
              1,
              "#000020"
             ]
            ],
            "type": "contour"
           }
          ],
          "contourcarpet": [
           {
            "colorscale": [
             [
              0,
              "#000011"
             ],
             [
              0.1111111111111111,
              "#000012"
             ],
             [
              0.2222222222222222,
              "#000013"
             ],
             [
              0.3333333333333333,
              "#000014"
             ],
             [
              0.4444444444444444,
              "#000015"
             ],
             [
              0.5555555555555556,
              "#000016"
             ],
             [
              0.6666666666666666,
              "#000017"
             ],
             [
              0.7777777777777778,
              "#000018"
             ],
             [
              0.8888888888888888,
              "#000019"
             ],
             [
              1,
              "#000020"
             ]
            ],
            "type": "contourcarpet"
           }
          ],
          "heatmap": [
           {
            "colorscale": [
             [
              0,
              "#000011"
             ],
             [
              0.1111111111111111,
              "#000012"
             ],
             [
              0.2222222222222222,
              "#000013"
             ],
             [
              0.3333333333333333,
              "#000014"
             ],
             [
              0.4444444444444444,
              "#000015"
             ],
             [
              0.5555555555555556,
              "#000016"
             ],
             [
              0.6666666666666666,
              "#000017"
             ],
             [
              0.7777777777777778,
              "#000018"
             ],
             [
              0.8888888888888888,
              "#000019"
             ],
             [
              1,
              "#000020"
             ]
            ],
            "type": "heatmap"
           }
          ],
          "histogram2d": [
           {
            "colorscale": [
             [
              0,
              "#000011"
             ],
             [
              0.1111111111111111,
              "#000012"
             ],
             [
              0.2222222222222222,
              "#000013"
             ],
             [
              0.3333333333333333,
              "#000014"
             ],
             [
              0.4444444444444444,
              "#000015"
             ],
             [
              0.5555555555555556,
              "#000016"
             ],
             [
              0.6666666666666666,
              "#000017"
             ],
             [
              0.7777777777777778,
              "#000018"
             ],
             [
              0.8888888888888888,
              "#000019"
             ],
             [
              1,
              "#000020"
             ]
            ],
            "type": "histogram2d"
           }
          ],
          "icicle": [
           {
            "textfont": {
             "color": "white"
            },
            "type": "icicle"
           }
          ],
          "indicator": [
           {
            "delta": {
             "reference": 90
            },
            "mode": "number+delta+gauge",
            "type": "indicator"
           }
          ],
          "sankey": [
           {
            "textfont": {
             "color": "#000036"
            },
            "type": "sankey"
           }
          ],
          "scatter": [
           {
            "marker": {
             "line": {
              "width": 0
             }
            },
            "type": "scatter"
           }
          ],
          "table": [
           {
            "cells": {
             "fill": {
              "color": "#000038"
             },
             "font": {
              "color": "#000037"
             },
             "line": {
              "color": "#000039"
             }
            },
            "header": {
             "fill": {
              "color": "#000040"
             },
             "font": {
              "color": "#000036"
             },
             "line": {
              "color": "#000039"
             }
            },
            "type": "table"
           }
          ],
          "waterfall": [
           {
            "connector": {
             "line": {
              "color": "#000036",
              "width": 2
             }
            },
            "decreasing": {
             "marker": {
              "color": "#000033"
             }
            },
            "increasing": {
             "marker": {
              "color": "#000032"
             }
            },
            "totals": {
             "marker": {
              "color": "#000034"
             }
            },
            "type": "waterfall"
           }
          ]
         },
         "layout": {
          "coloraxis": {
           "colorscale": [
            [
             0,
             "#000011"
            ],
            [
             0.1111111111111111,
             "#000012"
            ],
            [
             0.2222222222222222,
             "#000013"
            ],
            [
             0.3333333333333333,
             "#000014"
            ],
            [
             0.4444444444444444,
             "#000015"
            ],
            [
             0.5555555555555556,
             "#000016"
            ],
            [
             0.6666666666666666,
             "#000017"
            ],
            [
             0.7777777777777778,
             "#000018"
            ],
            [
             0.8888888888888888,
             "#000019"
            ],
            [
             1,
             "#000020"
            ]
           ]
          },
          "colorscale": {
           "diverging": [
            [
             0,
             "#000021"
            ],
            [
             0.1,
             "#000022"
            ],
            [
             0.2,
             "#000023"
            ],
            [
             0.3,
             "#000024"
            ],
            [
             0.4,
             "#000025"
            ],
            [
             0.5,
             "#000026"
            ],
            [
             0.6,
             "#000027"
            ],
            [
             0.7,
             "#000028"
            ],
            [
             0.8,
             "#000029"
            ],
            [
             0.9,
             "#000030"
            ],
            [
             1,
             "#000031"
            ]
           ],
           "sequential": [
            [
             0,
             "#000011"
            ],
            [
             0.1111111111111111,
             "#000012"
            ],
            [
             0.2222222222222222,
             "#000013"
            ],
            [
             0.3333333333333333,
             "#000014"
            ],
            [
             0.4444444444444444,
             "#000015"
            ],
            [
             0.5555555555555556,
             "#000016"
            ],
            [
             0.6666666666666666,
             "#000017"
            ],
            [
             0.7777777777777778,
             "#000018"
            ],
            [
             0.8888888888888888,
             "#000019"
            ],
            [
             1,
             "#000020"
            ]
           ],
           "sequentialminus": [
            [
             0,
             "#000011"
            ],
            [
             0.1111111111111111,
             "#000012"
            ],
            [
             0.2222222222222222,
             "#000013"
            ],
            [
             0.3333333333333333,
             "#000014"
            ],
            [
             0.4444444444444444,
             "#000015"
            ],
            [
             0.5555555555555556,
             "#000016"
            ],
            [
             0.6666666666666666,
             "#000017"
            ],
            [
             0.7777777777777778,
             "#000018"
            ],
            [
             0.8888888888888888,
             "#000019"
            ],
            [
             1,
             "#000020"
            ]
           ]
          },
          "colorway": [
           "#000001",
           "#000002",
           "#000003",
           "#000004",
           "#000005",
           "#000006",
           "#000007",
           "#000008",
           "#000009",
           "#000010"
          ]
         }
        }
       }
      }
     },
     "metadata": {},
     "output_type": "display_data"
    }
   ],
   "source": [
    "gauge_dict = {\n",
    "    \"titles\": [\"CPD Growth % MoM\", \"ARO Growth % MoM\", \"LHPC % MoM\", \"4-Wall EBITDA/Car % MoM\",\n",
    "                \"Labor % MoM\", \"Controllable Costs % MoM\", \n",
    "                \"Uncontrollable Costs % MoM\",\n",
    "                \"Discount % MoM\"],\n",
    "    \"values\": [0.25, 0.56, -0.23, 1.5, -0.99, 0.17, -0.3, 0.56]}\n",
    "\n",
    "size = \"<span style='font-size:0.5em'>\"\n",
    "\n",
    "fig = go.Figure()\n",
    "\n",
    "fig.add_trace(go.Indicator(\n",
    "    title={'text': size + gauge_dict['titles'][0]},\n",
    "    value = gauge_dict['values'][0],\n",
    "    delta = {'reference': 0.235},\n",
    "    gauge = {'axis': {'visible': True}}, domain = {'row': 0, 'column': 0}))\n",
    "\n",
    "fig.add_trace(go.Indicator(\n",
    "    title={'text': size + gauge_dict['titles'][1]},    \n",
    "    value = gauge_dict['values'][1],\n",
    "    delta = {'reference': 0.235},\n",
    "    gauge = {'axis': {'visible': True}}, domain = {'row': 0, 'column': 1}))\n",
    "\n",
    "fig.add_trace(go.Indicator(\n",
    "    title={'text': size + gauge_dict['titles'][2]},\n",
    "    value = gauge_dict['values'][2],\n",
    "    delta = {'reference': 0.235},\n",
    "    gauge = {'axis': {'visible': True}}, domain = {'row': 0, 'column': 2}))\n",
    "\n",
    "fig.add_trace(go.Indicator(\n",
    "    title={'text': size + gauge_dict['titles'][3]},\n",
    "    value = gauge_dict['values'][3],\n",
    "    delta = {'reference': 0.235},\n",
    "    gauge = {'axis': {'visible': True}}, domain = {'row': 0, 'column': 3}))\n",
    "\n",
    "fig.add_trace(go.Indicator(\n",
    "    title={'text': size + gauge_dict['titles'][4]},\n",
    "    value = gauge_dict['values'][4],\n",
    "    delta = {'reference': 0.235},\n",
    "    gauge = {'axis': {'visible': True}}, domain = {'row': 1, 'column': 0}))\n",
    "\n",
    "fig.add_trace(go.Indicator(\n",
    "    title={'text': size + gauge_dict['titles'][5]},\n",
    "    value = gauge_dict['values'][5],\n",
    "    delta = {'reference': 0.235},\n",
    "    gauge = {'axis': {'visible': True}}, domain = {'row': 1, 'column': 1}))\n",
    "\n",
    "fig.add_trace(go.Indicator(\n",
    "    title={'text': size + gauge_dict['titles'][6]},\n",
    "    value = gauge_dict['values'][5],\n",
    "    delta = {'reference': 0.235},\n",
    "    gauge = {'axis': {'visible': True}}, domain = {'row': 1, 'column': 2}))\n",
    "\n",
    "fig.add_trace(go.Indicator(\n",
    "    domain = {'row': 1, 'column': 3},\n",
    "    value = 450,\n",
    "    delta = {'reference': 120},\n",
    "    gauge = {'axis': {'range': [-500, 500]},\n",
    "             'steps' : [\n",
    "                 {'range': [0, 250], 'color': \"lightgray\"},\n",
    "                 {'range': [250, 400], 'color': \"gray\"}],\n",
    "             'threshold' : {'line': {'color': \"red\", 'width': 4}, 'thickness': 0.75, 'value': 490}}))\n",
    "\n",
    "fig.update_layout(\n",
    "    grid = {'rows': 2, 'columns': 4, 'pattern': \"independent\"},\n",
    "    template = {'data' : {'indicator': [{\n",
    "        'mode' : \"number+delta+gauge\",\n",
    "        'delta' : {'reference': 90}}]\n",
    "                         }})"
   ]
  },
  {
   "cell_type": "code",
   "execution_count": null,
   "metadata": {},
   "outputs": [],
   "source": []
  }
 ],
 "metadata": {
  "kernelspec": {
   "display_name": "kordis_py",
   "language": "python",
   "name": "python3"
  },
  "language_info": {
   "codemirror_mode": {
    "name": "ipython",
    "version": 3
   },
   "file_extension": ".py",
   "mimetype": "text/x-python",
   "name": "python",
   "nbconvert_exporter": "python",
   "pygments_lexer": "ipython3",
   "version": "3.12.2"
  }
 },
 "nbformat": 4,
 "nbformat_minor": 2
}
